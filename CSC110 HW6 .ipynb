{
 "cells": [
  {
   "cell_type": "code",
   "execution_count": null,
   "id": "0f4ae2c1",
   "metadata": {},
   "outputs": [],
   "source": [
    "def to_secs(hours,minutes,seconds):\n",
    "\n",
    "    secs_hours = 3600 * hours\n",
    "    secs_minutes = 60 *minutes\n",
    "    return math.floor(secs_hours + secs_minutes + seconds)\n",
    "\n",
    "test(to_secs(2, 30, 10) == 9010)\n",
    "test(to_secs(2, 0, 0) == 7200)\n",
    "test(to_secs(0, 2, 0) == 120)\n",
    "test(to_secs(0, 0, 42) == 42)\n",
    "test(to_secs(0, -10, 10) == -590)\n"
   ]
  },
  {
   "cell_type": "code",
   "execution_count": null,
   "id": "aecffaac",
   "metadata": {},
   "outputs": [],
   "source": [
    "test(to_secs(2.5, 0, 10.71) == 9010)\n",
    "\n",
    "\n",
    "test(to_secs(2.433,0,0) == 8758)"
   ]
  },
  {
   "cell_type": "code",
   "execution_count": null,
   "id": "6dcdb99e",
   "metadata": {},
   "outputs": [],
   "source": [
    "    test(hours_in(9010)==2)\n",
    "    test(minutes_in(9010)==30)\n",
    "    test(seconds_in(9010)==10)"
   ]
  },
  {
   "cell_type": "code",
   "execution_count": 10,
   "id": "3ed42c78",
   "metadata": {},
   "outputs": [
    {
     "data": {
      "text/plain": [
       "(False, True, False, True, False, False, False)"
      ]
     },
     "execution_count": 10,
     "metadata": {},
     "output_type": "execute_result"
    }
   ],
   "source": [
    "3 % 4== 0 , 3 % 4==3 , 3 / 4==0, 3 // 4 ==0 , 3+4 * 2 ==14,  4-2+2 == 0, \"hello, world!\" == 13"
   ]
  },
  {
   "cell_type": "code",
   "execution_count": 56,
   "id": "183fbd71",
   "metadata": {},
   "outputs": [
    {
     "data": {
      "text/plain": [
       "-4.0"
      ]
     },
     "execution_count": 56,
     "metadata": {},
     "output_type": "execute_result"
    }
   ],
   "source": [
    "def slope(x1, y1, x2, y2):\n",
    "    if(x2 - x1 != 0):\n",
    "        return (float)(y2-y1)/(x2-x1)\n",
    "    return sys.maxint\n",
    " \n",
    "x1 = 1\n",
    "y1 = 0\n",
    "x2 = 0.5\n",
    "y2 = 2\n",
    "\n",
    "slope(x1, y1, x2, y2)"
   ]
  }
 ],
 "metadata": {
  "kernelspec": {
   "display_name": "Python 3",
   "language": "python",
   "name": "python3"
  },
  "language_info": {
   "codemirror_mode": {
    "name": "ipython",
    "version": 3
   },
   "file_extension": ".py",
   "mimetype": "text/x-python",
   "name": "python",
   "nbconvert_exporter": "python",
   "pygments_lexer": "ipython3",
   "version": "3.8.8"
  }
 },
 "nbformat": 4,
 "nbformat_minor": 5
}
