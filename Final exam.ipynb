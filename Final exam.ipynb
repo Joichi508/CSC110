{
 "cells": [
  {
   "cell_type": "code",
   "execution_count": null,
   "id": "75f91bdc",
   "metadata": {},
   "outputs": [],
   "source": [
    "n = int(input(\"Enter the number of Scores: \"))\n",
    "marks = []\n",
    "A,B,C,D,F = 0,0,0,0,0\n",
    "for i in range(0,n):\n",
    "    marks.append(int(input(\"Enter the Scores: \")))\n",
    "mean = sum(marks) / len(marks)\n",
    "var = sum([((x - mean) ** 2) for x in marks]) / len(marks)\n",
    "std_dev = var ** 0.5\n",
    "\n",
    "for i in range(0,n):\n",
    "    if (marks[i] >= mean+1.5*std_dev):\n",
    "        A = A+1\n",
    "    elif(marks[i] >= mean+0.5*std_dev):\n",
    "        B += 1\n",
    "    elif(marks[i] >= mean-0.5*std_dev):\n",
    "        C += 1\n",
    "    elif(marks[i] >= mean-1.5*std_dev):\n",
    "        D += 1\n",
    "    else:\n",
    "        F += 1\n",
    "\n",
    "print(\"Average Score is: \",mean)\n",
    "print(\"Standard Deviation of Score is:\",std_dev)\n",
    "\n",
    "print(\"GRADE DISTRIBUTION AFTER CURVING GRADES.\")\n",
    "print(\"A: \", A )\n",
    "print(\"B: \", B )\n",
    "print(\"C: \", C )\n",
    "print(\"D: \", D )\n",
    "print(\"F: \", F )"
   ]
  }
 ],
 "metadata": {
  "kernelspec": {
   "display_name": "Python 3",
   "language": "python",
   "name": "python3"
  },
  "language_info": {
   "codemirror_mode": {
    "name": "ipython",
    "version": 3
   },
   "file_extension": ".py",
   "mimetype": "text/x-python",
   "name": "python",
   "nbconvert_exporter": "python",
   "pygments_lexer": "ipython3",
   "version": "3.8.8"
  }
 },
 "nbformat": 4,
 "nbformat_minor": 5
}
