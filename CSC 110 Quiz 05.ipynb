{
 "cells": [
  {
   "cell_type": "code",
   "execution_count": 1,
   "id": "215c27ea",
   "metadata": {},
   "outputs": [
    {
     "name": "stdout",
     "output_type": "stream",
     "text": [
      "1011010011\n"
     ]
    }
   ],
   "source": [
    "#Convert 723 to binary\n",
    "print(bin(723)[2:])"
   ]
  },
  {
   "cell_type": "code",
   "execution_count": 2,
   "id": "29e14417",
   "metadata": {},
   "outputs": [
    {
     "name": "stdout",
     "output_type": "stream",
     "text": [
      "13\n"
     ]
    }
   ],
   "source": [
    "#Convert 1101 from binary to decimal\n",
    "def BtoD(n):\n",
    "    return int(n,2)\n",
    "\n",
    "if __name__ == '__main__':\n",
    "    print(BtoD('1101'))"
   ]
  }
 ],
 "metadata": {
  "kernelspec": {
   "display_name": "Python 3",
   "language": "python",
   "name": "python3"
  },
  "language_info": {
   "codemirror_mode": {
    "name": "ipython",
    "version": 3
   },
   "file_extension": ".py",
   "mimetype": "text/x-python",
   "name": "python",
   "nbconvert_exporter": "python",
   "pygments_lexer": "ipython3",
   "version": "3.8.8"
  }
 },
 "nbformat": 4,
 "nbformat_minor": 5
}
