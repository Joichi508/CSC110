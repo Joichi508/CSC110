{
 "cells": [
  {
   "cell_type": "code",
   "execution_count": 2,
   "id": "68e270a3",
   "metadata": {},
   "outputs": [
    {
     "name": "stdout",
     "output_type": "stream",
     "text": [
      "The word 'alice' appears 383 times in the book.\n"
     ]
    }
   ],
   "source": [
    "f = open('alice.txt', 'r')\n",
    "\n",
    "count = {}\n",
    "\n",
    "for line in f:\n",
    "    for word in line.split():\n",
    "\n",
    "        word = word.replace('_', '').replace('\"', '').replace(',', '').replace('.', '')\n",
    "        word = word.replace('-', '').replace('?', '').replace('!', '').replace(\"'\", \"\")\n",
    "        word = word.replace('(', '').replace(')', '').replace(':', '').replace('[', '')\n",
    "        word = word.replace(']', '').replace(';', '')\n",
    "\n",
    "        word = word.lower()\n",
    "\n",
    "        if word.isalpha():\n",
    "            if word in count:\n",
    "                count[word] = count[word] + 1\n",
    "            else:\n",
    "                count[word] = 1\n",
    "\n",
    "keys = count.keys()\n",
    "\n",
    "out = open('alice_words.txt', 'w')\n",
    "\n",
    "for word in keys:\n",
    "    out.write(word + \" \" + str(count[word]))\n",
    "    out.write('\\n')\n",
    "\n",
    "print(\"The word 'alice' appears \" + str(count['alice']) + \" times in the book.\")"
   ]
  },
  {
   "cell_type": "code",
   "execution_count": null,
   "id": "8173652b",
   "metadata": {},
   "outputs": [],
   "source": [
    "    with open(\"alice.txt\", \"w\") as fout:\n",
    "        length = 0\n",
    "        for k, v in sorted(counted_words.items()):\n",
    "            if len(k) > length:\n",
    "                length = len(k)\n",
    "                print (length)\n",
    "            fout.write(k + \" \" + str(v) + \"\\n\")"
   ]
  }
 ],
 "metadata": {
  "kernelspec": {
   "display_name": "Python 3",
   "language": "python",
   "name": "python3"
  },
  "language_info": {
   "codemirror_mode": {
    "name": "ipython",
    "version": 3
   },
   "file_extension": ".py",
   "mimetype": "text/x-python",
   "name": "python",
   "nbconvert_exporter": "python",
   "pygments_lexer": "ipython3",
   "version": "3.8.8"
  }
 },
 "nbformat": 4,
 "nbformat_minor": 5
}
