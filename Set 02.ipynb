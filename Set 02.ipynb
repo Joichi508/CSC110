{
 "cells": [
  {
   "cell_type": "code",
   "execution_count": 4,
   "id": "8689a02d",
   "metadata": {},
   "outputs": [
    {
     "name": "stdout",
     "output_type": "stream",
     "text": [
      "All work and no play makes Jack a dull boy.\n"
     ]
    }
   ],
   "source": [
    "a=\"All\"\n",
    "b=\"work\"\n",
    "c=\"and\"\n",
    "d=\"no\"\n",
    "e=\"play\"\n",
    "f=\"makes\"\n",
    "g=\"Jack\"\n",
    "h=\"a\"\n",
    "i=\"dull\"\n",
    "j=\"boy.\"\n",
    "print(a,b,c,d,e,f,g,h,i,j)"
   ]
  },
  {
   "cell_type": "code",
   "execution_count": 7,
   "id": "a4191517",
   "metadata": {},
   "outputs": [
    {
     "data": {
      "text/plain": [
       "-6"
      ]
     },
     "execution_count": 7,
     "metadata": {},
     "output_type": "execute_result"
    }
   ],
   "source": [
    "6*(1-2)"
   ]
  },
  {
   "cell_type": "code",
   "execution_count": 8,
   "id": "b1c0186d",
   "metadata": {},
   "outputs": [
    {
     "ename": "SyntaxError",
     "evalue": "invalid syntax (<ipython-input-8-ae8f88483b06>, line 1)",
     "output_type": "error",
     "traceback": [
      "\u001b[0;36m  File \u001b[0;32m\"<ipython-input-8-ae8f88483b06>\"\u001b[0;36m, line \u001b[0;32m1\u001b[0m\n\u001b[0;31m    I live in seattle 6*(1-2)\u001b[0m\n\u001b[0m      ^\u001b[0m\n\u001b[0;31mSyntaxError\u001b[0m\u001b[0;31m:\u001b[0m invalid syntax\n"
     ]
    }
   ],
   "source": [
    "I live in seattle 6*(1-2)"
   ]
  },
  {
   "cell_type": "code",
   "execution_count": 9,
   "id": "5d11f5a7",
   "metadata": {},
   "outputs": [
    {
     "ename": "NameError",
     "evalue": "name 'bruce' is not defined",
     "output_type": "error",
     "traceback": [
      "\u001b[0;31m---------------------------------------------------------------------------\u001b[0m",
      "\u001b[0;31mNameError\u001b[0m                                 Traceback (most recent call last)",
      "\u001b[0;32m<ipython-input-9-a2240687f628>\u001b[0m in \u001b[0;36m<module>\u001b[0;34m\u001b[0m\n\u001b[0;32m----> 1\u001b[0;31m \u001b[0mbruce\u001b[0m\u001b[0;34m+\u001b[0m\u001b[0;36m4\u001b[0m\u001b[0;34m\u001b[0m\u001b[0;34m\u001b[0m\u001b[0m\n\u001b[0m",
      "\u001b[0;31mNameError\u001b[0m: name 'bruce' is not defined"
     ]
    }
   ],
   "source": [
    "bruce+4"
   ]
  },
  {
   "cell_type": "code",
   "execution_count": 11,
   "id": "32ccc0fd",
   "metadata": {},
   "outputs": [
    {
     "name": "stdout",
     "output_type": "stream",
     "text": [
      "10\n"
     ]
    }
   ],
   "source": [
    "bruce=6\n",
    "print(bruce+4)"
   ]
  },
  {
   "cell_type": "code",
   "execution_count": null,
   "id": "6f308528",
   "metadata": {},
   "outputs": [],
   "source": [
    "p=10000\n",
    "n=12\n",
    "r=0.08\n",
    "t_str=input(\"t,years\")\n",
    "t=int(t_str)\n",
    "\n",
    "final=p*{(1+r/n)**(n**t)}\n",
    "print(final)"
   ]
  },
  {
   "cell_type": "code",
   "execution_count": null,
   "id": "2558c897",
   "metadata": {},
   "outputs": [],
   "source": []
  }
 ],
 "metadata": {
  "kernelspec": {
   "display_name": "Python 3",
   "language": "python",
   "name": "python3"
  },
  "language_info": {
   "codemirror_mode": {
    "name": "ipython",
    "version": 3
   },
   "file_extension": ".py",
   "mimetype": "text/x-python",
   "name": "python",
   "nbconvert_exporter": "python",
   "pygments_lexer": "ipython3",
   "version": "3.8.8"
  }
 },
 "nbformat": 4,
 "nbformat_minor": 5
}
