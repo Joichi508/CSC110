{
 "cells": [
  {
   "cell_type": "code",
   "execution_count": 8,
   "id": "37d6aa87",
   "metadata": {},
   "outputs": [
    {
     "name": "stdout",
     "output_type": "stream",
     "text": [
      "inches:100\n",
      "feet:10\n",
      "yards10\n",
      "miles:10\n",
      "Metric length\n",
      "{} km 16\n",
      "{} m 8\n",
      "{} mm 20.4\n"
     ]
    }
   ],
   "source": [
    "import random\n",
    "def Mertic_length():\n",
    "    inches = float(input(\"inches:\"))\n",
    "    feet = float(input(\"feet:\"))\n",
    "    yards = float(input(\"yards\"))\n",
    "    miles = float(input(\"miles:\"))\n",
    "    \n",
    "    Total = 63360*miles + 36*yards + 12*feet + inches\n",
    "    meters = Total/39.37\n",
    "    kilometers = int(meters/1000)\n",
    "    Meters = int(meters%100)\n",
    "    centimeters = (meters*100)%100\n",
    "    \n",
    "    print(\"Metric length\")\n",
    "    print(\"{} km\" , format(kilometers))\n",
    "    print(\"{} m\" , format(Meters))\n",
    "    print(\"{} mm\" , format(round(centimeters , 1)))\n",
    "    \n",
    "Mertic_length()"
   ]
  }
 ],
 "metadata": {
  "kernelspec": {
   "display_name": "Python 3",
   "language": "python",
   "name": "python3"
  },
  "language_info": {
   "codemirror_mode": {
    "name": "ipython",
    "version": 3
   },
   "file_extension": ".py",
   "mimetype": "text/x-python",
   "name": "python",
   "nbconvert_exporter": "python",
   "pygments_lexer": "ipython3",
   "version": "3.8.8"
  }
 },
 "nbformat": 4,
 "nbformat_minor": 5
}
