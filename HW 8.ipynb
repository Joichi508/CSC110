{
 "cells": [
  {
   "cell_type": "code",
   "execution_count": 16,
   "id": "1514558f",
   "metadata": {},
   "outputs": [
    {
     "data": {
      "text/plain": [
       "('y', 'g', 9, 'Myst', True)"
      ]
     },
     "execution_count": 16,
     "metadata": {},
     "output_type": "execute_result"
    }
   ],
   "source": [
    "'Python'[1] , \"Strings are sequences of characters.\"[5] , len(\"wonderful\") , 'Mystery'[:4] , 'p' in 'Pineapple'"
   ]
  },
  {
   "cell_type": "code",
   "execution_count": 15,
   "id": "99398aee",
   "metadata": {},
   "outputs": [
    {
     "data": {
      "text/plain": [
       "(True, True, False, False)"
      ]
     },
     "execution_count": 15,
     "metadata": {},
     "output_type": "execute_result"
    }
   ],
   "source": [
    "'apple' in 'Pineapple' , 'pear' not in 'Pineapple' , 'apple' > 'pineapple' , 'pineapple' < 'Peach'"
   ]
  },
  {
   "cell_type": "code",
   "execution_count": null,
   "id": "4612e14d",
   "metadata": {},
   "outputs": [],
   "source": [
    "def reverse(input):\n",
    "    rev_string = input[::-1]\n",
    "    return rev_string\n",
    "\n",
    "text = raw_input(\"Type the string you would like to reverse.\")\n",
    "print(\"Here is your string, in reverse: \" + reverse(text))\n",
    "\n",
    "print(\"Tests:\")\n",
    "test(reverse(\"happy\"), \"yppah\")\n",
    "test(reverse(\"Python\"), \"nohtyP\")\n",
    "test(reverse(\"\"),\"\")"
   ]
  },
  {
   "cell_type": "code",
   "execution_count": 21,
   "id": "f765237d",
   "metadata": {},
   "outputs": [
    {
     "name": "stdout",
     "output_type": "stream",
     "text": [
      "gooddoog\n",
      "PythonnohtyP\n",
      ".,..,.\n",
      "aa\n"
     ]
    }
   ],
   "source": [
    "def mirror(mystr):\n",
    "    reverse = mystr[::-1]\n",
    "    return mystr+reverse\n",
    "\n",
    "print(mirror('good'))\n",
    "print(mirror('Python'))\n",
    "print(mirror('.,.'))\n",
    "print(mirror('a'))"
   ]
  }
 ],
 "metadata": {
  "kernelspec": {
   "display_name": "Python 3",
   "language": "python",
   "name": "python3"
  },
  "language_info": {
   "codemirror_mode": {
    "name": "ipython",
    "version": 3
   },
   "file_extension": ".py",
   "mimetype": "text/x-python",
   "name": "python",
   "nbconvert_exporter": "python",
   "pygments_lexer": "ipython3",
   "version": "3.8.8"
  }
 },
 "nbformat": 4,
 "nbformat_minor": 5
}
