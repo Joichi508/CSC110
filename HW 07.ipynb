{
 "cells": [
  {
   "cell_type": "code",
   "execution_count": 7,
   "id": "a7238a12",
   "metadata": {},
   "outputs": [],
   "source": [
    "def print_triangular_numbers(x):\n",
    "    sum = 0\n",
    "    for num in range(1, x+1):\n",
    "        sum += num\n",
    "        print(num, \"\\t\", sum)"
   ]
  },
  {
   "cell_type": "code",
   "execution_count": 13,
   "id": "b75d59c6",
   "metadata": {},
   "outputs": [],
   "source": [
    "def isPrime(n):\n",
    "    for i in range(2, int(n**0.5)+1):\n",
    "        if n % i == 0:\n",
    "            return False\n",
    "\n",
    "    return True"
   ]
  },
  {
   "cell_type": "code",
   "execution_count": 14,
   "id": "8c97b5fa",
   "metadata": {},
   "outputs": [
    {
     "name": "stdout",
     "output_type": "stream",
     "text": [
      "29\n"
     ]
    }
   ],
   "source": [
    "list = [2,3,4]\n",
    "def sum_of_squares(xs):\n",
    "    sumSquares = 0\n",
    "    for number in xs:\n",
    "        sumSquares += number ** 2\n",
    "    return sumSquares\n",
    "\n",
    "print(sum_of_squares(list))"
   ]
  },
  {
   "cell_type": "code",
   "execution_count": 17,
   "id": "90c4053d",
   "metadata": {},
   "outputs": [
    {
     "ename": "SyntaxError",
     "evalue": "invalid syntax (<ipython-input-17-ad23e5dfa641>, line 5)",
     "output_type": "error",
     "traceback": [
      "\u001b[0;36m  File \u001b[0;32m\"<ipython-input-17-ad23e5dfa641>\"\u001b[0;36m, line \u001b[0;32m5\u001b[0m\n\u001b[0;31m    def odd evens():\u001b[0m\n\u001b[0m            ^\u001b[0m\n\u001b[0;31mSyntaxError\u001b[0m\u001b[0;31m:\u001b[0m invalid syntax\n"
     ]
    }
   ],
   "source": [
    "def count():\n",
    "    randomlist = random.sample(range(-100,100),10)\n",
    "    print (randomlist)\n",
    "    \n",
    "def odd evens():\n",
    "    odds = []\n",
    "    evens = []\n",
    "    for value in randomlist:\n",
    "        if value % 2== 0:\n",
    "            evens.append(value)\n",
    "        else:\n",
    "            odds.append(value)\n",
    "            print(\"Even numbers:\",evens)\n",
    "            print(\"Odd numbers:\",odds)\n",
    "            odd_evens()\n",
    "            \n",
    "def positive_negatives():\n",
    "    positives = []\n",
    "    negatives = []\n",
    "    for value in randomlist:\n",
    "        if value >=0:\n",
    "            positives +=1\n",
    "            positives.append(value)\n",
    "        else:\n",
    "            negatives +=1\n",
    "            negatives.append(value)\n",
    "        print(\"Positive numbers in the list:\"+ positives)\n",
    "        print(\"Negative numbers in the list:\"+ negatives)\n",
    "        positive_negatives()\n",
    "        "
   ]
  }
 ],
 "metadata": {
  "kernelspec": {
   "display_name": "Python 3",
   "language": "python",
   "name": "python3"
  },
  "language_info": {
   "codemirror_mode": {
    "name": "ipython",
    "version": 3
   },
   "file_extension": ".py",
   "mimetype": "text/x-python",
   "name": "python",
   "nbconvert_exporter": "python",
   "pygments_lexer": "ipython3",
   "version": "3.8.8"
  }
 },
 "nbformat": 4,
 "nbformat_minor": 5
}
