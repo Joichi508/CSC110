{
 "cells": [
  {
   "cell_type": "code",
   "execution_count": 37,
   "id": "62443982",
   "metadata": {},
   "outputs": [],
   "source": [
    "def Firstname():\n",
    "    firstname = input(\"Your first name\")\n",
    "    return firstname\n",
    "\n",
    "def Lastname():\n",
    "    lastname = input(\"Your last name \")\n",
    "    return lastname\n",
    "\n",
    "def CurrentSalary():\n",
    "    currentsalary = float(input(\"Your current salary\"))\n",
    "    return currentsalary\n",
    "\n",
    "def NewSalary(currentsalary):\n",
    "    if currentsalary < 40000:\n",
    "        return(currentsalary*1.05)\n",
    "    else:\n",
    "        return currentsalary + 2000 + (0.02*(currentsalary - 40000))\n",
    "    def displayResult(firstname, lastname, newsalary):\n",
    "        print(\"Your new salary \", firstname, lastname, + \":\" + \"$\" + str(newsalary))\n",
    "        def main():\n",
    "            main()"
   ]
  }
 ],
 "metadata": {
  "kernelspec": {
   "display_name": "Python 3",
   "language": "python",
   "name": "python3"
  },
  "language_info": {
   "codemirror_mode": {
    "name": "ipython",
    "version": 3
   },
   "file_extension": ".py",
   "mimetype": "text/x-python",
   "name": "python",
   "nbconvert_exporter": "python",
   "pygments_lexer": "ipython3",
   "version": "3.8.8"
  }
 },
 "nbformat": 4,
 "nbformat_minor": 5
}
